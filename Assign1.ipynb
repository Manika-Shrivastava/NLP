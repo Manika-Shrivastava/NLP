{
  "nbformat": 4,
  "nbformat_minor": 0,
  "metadata": {
    "colab": {
      "name": "Assign1.ipynb",
      "provenance": [],
      "authorship_tag": "ABX9TyMqr8ry/jTMtReUbAtHLC7Z",
      "include_colab_link": true
    },
    "kernelspec": {
      "name": "python3",
      "display_name": "Python 3"
    }
  },
  "cells": [
    {
      "cell_type": "markdown",
      "metadata": {
        "id": "view-in-github",
        "colab_type": "text"
      },
      "source": [
        "<a href=\"https://colab.research.google.com/github/Manika-Shrivastava/NLP/blob/master/Assign1.ipynb\" target=\"_parent\"><img src=\"https://colab.research.google.com/assets/colab-badge.svg\" alt=\"Open In Colab\"/></a>"
      ]
    },
    {
      "cell_type": "code",
      "metadata": {
        "id": "V7bIctBpSDgB",
        "colab_type": "code",
        "colab": {
          "base_uri": "https://localhost:8080/",
          "height": 816
        },
        "outputId": "e7e6fea4-e4c3-439d-e9bd-ef414e5d73e2"
      },
      "source": [
        "import nltk\n",
        "nltk.download(\"popular\")"
      ],
      "execution_count": 1,
      "outputs": [
        {
          "output_type": "stream",
          "text": [
            "[nltk_data] Downloading collection 'popular'\n",
            "[nltk_data]    | \n",
            "[nltk_data]    | Downloading package cmudict to /root/nltk_data...\n",
            "[nltk_data]    |   Unzipping corpora/cmudict.zip.\n",
            "[nltk_data]    | Downloading package gazetteers to /root/nltk_data...\n",
            "[nltk_data]    |   Unzipping corpora/gazetteers.zip.\n",
            "[nltk_data]    | Downloading package genesis to /root/nltk_data...\n",
            "[nltk_data]    |   Unzipping corpora/genesis.zip.\n",
            "[nltk_data]    | Downloading package gutenberg to /root/nltk_data...\n",
            "[nltk_data]    |   Unzipping corpora/gutenberg.zip.\n",
            "[nltk_data]    | Downloading package inaugural to /root/nltk_data...\n",
            "[nltk_data]    |   Unzipping corpora/inaugural.zip.\n",
            "[nltk_data]    | Downloading package movie_reviews to\n",
            "[nltk_data]    |     /root/nltk_data...\n",
            "[nltk_data]    |   Unzipping corpora/movie_reviews.zip.\n",
            "[nltk_data]    | Downloading package names to /root/nltk_data...\n",
            "[nltk_data]    |   Unzipping corpora/names.zip.\n",
            "[nltk_data]    | Downloading package shakespeare to /root/nltk_data...\n",
            "[nltk_data]    |   Unzipping corpora/shakespeare.zip.\n",
            "[nltk_data]    | Downloading package stopwords to /root/nltk_data...\n",
            "[nltk_data]    |   Unzipping corpora/stopwords.zip.\n",
            "[nltk_data]    | Downloading package treebank to /root/nltk_data...\n",
            "[nltk_data]    |   Unzipping corpora/treebank.zip.\n",
            "[nltk_data]    | Downloading package twitter_samples to\n",
            "[nltk_data]    |     /root/nltk_data...\n",
            "[nltk_data]    |   Unzipping corpora/twitter_samples.zip.\n",
            "[nltk_data]    | Downloading package omw to /root/nltk_data...\n",
            "[nltk_data]    |   Unzipping corpora/omw.zip.\n",
            "[nltk_data]    | Downloading package wordnet to /root/nltk_data...\n",
            "[nltk_data]    |   Unzipping corpora/wordnet.zip.\n",
            "[nltk_data]    | Downloading package wordnet_ic to /root/nltk_data...\n",
            "[nltk_data]    |   Unzipping corpora/wordnet_ic.zip.\n",
            "[nltk_data]    | Downloading package words to /root/nltk_data...\n",
            "[nltk_data]    |   Unzipping corpora/words.zip.\n",
            "[nltk_data]    | Downloading package maxent_ne_chunker to\n",
            "[nltk_data]    |     /root/nltk_data...\n",
            "[nltk_data]    |   Unzipping chunkers/maxent_ne_chunker.zip.\n",
            "[nltk_data]    | Downloading package punkt to /root/nltk_data...\n",
            "[nltk_data]    |   Unzipping tokenizers/punkt.zip.\n",
            "[nltk_data]    | Downloading package snowball_data to\n",
            "[nltk_data]    |     /root/nltk_data...\n",
            "[nltk_data]    | Downloading package averaged_perceptron_tagger to\n",
            "[nltk_data]    |     /root/nltk_data...\n",
            "[nltk_data]    |   Unzipping taggers/averaged_perceptron_tagger.zip.\n",
            "[nltk_data]    | \n",
            "[nltk_data]  Done downloading collection popular\n"
          ],
          "name": "stdout"
        },
        {
          "output_type": "execute_result",
          "data": {
            "text/plain": [
              "True"
            ]
          },
          "metadata": {
            "tags": []
          },
          "execution_count": 1
        }
      ]
    },
    {
      "cell_type": "code",
      "metadata": {
        "id": "FzbV7IOnSWLA",
        "colab_type": "code",
        "colab": {
          "base_uri": "https://localhost:8080/",
          "height": 34
        },
        "outputId": "5a10a6cf-5487-4dbe-e784-96bda38becbe"
      },
      "source": [
        "#word tokenize\n",
        "from nltk.tokenize import word_tokenize as wt\n",
        "text = \"Sitting on a branch, the monkey gibbered.\"\n",
        "print(wt(text))"
      ],
      "execution_count": 2,
      "outputs": [
        {
          "output_type": "stream",
          "text": [
            "['Sitting', 'on', 'a', 'branch', ',', 'the', 'monkey', 'gibbered', '.']\n"
          ],
          "name": "stdout"
        }
      ]
    },
    {
      "cell_type": "code",
      "metadata": {
        "id": "rXn7KvTJUjEC",
        "colab_type": "code",
        "colab": {
          "base_uri": "https://localhost:8080/",
          "height": 34
        },
        "outputId": "81f4439d-5028-434c-90a0-8c136436752c"
      },
      "source": [
        "#sentence tokenization\n",
        "from nltk.tokenize import sent_tokenize\n",
        "text = \"Not only in the corporate sector, but women have also been in the limelight for their immaculate performances in the field of sports, drama, and music.\"\n",
        "print(sent_tokenize(text))"
      ],
      "execution_count": 3,
      "outputs": [
        {
          "output_type": "stream",
          "text": [
            "['Not only in the corporate sector, but women have also been in the limelight for their immaculate performances in the field of sports, drama, and music.']\n"
          ],
          "name": "stdout"
        }
      ]
    },
    {
      "cell_type": "code",
      "metadata": {
        "id": "9TVO3CEPVvT4",
        "colab_type": "code",
        "colab": {
          "base_uri": "https://localhost:8080/",
          "height": 102
        },
        "outputId": "665c1961-2e19-4db3-d3c4-f658b9c27180"
      },
      "source": [
        "#stop words\n",
        "from nltk.corpus import stopwords\n",
        "from nltk.tokenize import word_tokenize\n",
        "nltk.download('stopwords')\n",
        "nltk.download('punkt')"
      ],
      "execution_count": 4,
      "outputs": [
        {
          "output_type": "stream",
          "text": [
            "[nltk_data] Downloading package stopwords to /root/nltk_data...\n",
            "[nltk_data]   Package stopwords is already up-to-date!\n",
            "[nltk_data] Downloading package punkt to /root/nltk_data...\n",
            "[nltk_data]   Package punkt is already up-to-date!\n"
          ],
          "name": "stdout"
        },
        {
          "output_type": "execute_result",
          "data": {
            "text/plain": [
              "True"
            ]
          },
          "metadata": {
            "tags": []
          },
          "execution_count": 4
        }
      ]
    },
    {
      "cell_type": "code",
      "metadata": {
        "id": "H3EPWXYdV_-c",
        "colab_type": "code",
        "colab": {
          "base_uri": "https://localhost:8080/",
          "height": 88
        },
        "outputId": "c04531ec-d93f-48f1-ef9d-2ee715a143d6"
      },
      "source": [
        "print(stopwords.words('english'))\n",
        "\n",
        "text = \"This is a really nice plan.\"\n",
        "text_tokens = word_tokenize(text)\n",
        "\n",
        "tokens_without_sw = [word for word in text_tokens if not word in stopwords.words('english')]\n",
        "\n",
        "print(text_tokens)\n",
        "print(tokens_without_sw)"
      ],
      "execution_count": 6,
      "outputs": [
        {
          "output_type": "stream",
          "text": [
            "['i', 'me', 'my', 'myself', 'we', 'our', 'ours', 'ourselves', 'you', \"you're\", \"you've\", \"you'll\", \"you'd\", 'your', 'yours', 'yourself', 'yourselves', 'he', 'him', 'his', 'himself', 'she', \"she's\", 'her', 'hers', 'herself', 'it', \"it's\", 'its', 'itself', 'they', 'them', 'their', 'theirs', 'themselves', 'what', 'which', 'who', 'whom', 'this', 'that', \"that'll\", 'these', 'those', 'am', 'is', 'are', 'was', 'were', 'be', 'been', 'being', 'have', 'has', 'had', 'having', 'do', 'does', 'did', 'doing', 'a', 'an', 'the', 'and', 'but', 'if', 'or', 'because', 'as', 'until', 'while', 'of', 'at', 'by', 'for', 'with', 'about', 'against', 'between', 'into', 'through', 'during', 'before', 'after', 'above', 'below', 'to', 'from', 'up', 'down', 'in', 'out', 'on', 'off', 'over', 'under', 'again', 'further', 'then', 'once', 'here', 'there', 'when', 'where', 'why', 'how', 'all', 'any', 'both', 'each', 'few', 'more', 'most', 'other', 'some', 'such', 'no', 'nor', 'not', 'only', 'own', 'same', 'so', 'than', 'too', 'very', 's', 't', 'can', 'will', 'just', 'don', \"don't\", 'should', \"should've\", 'now', 'd', 'll', 'm', 'o', 're', 've', 'y', 'ain', 'aren', \"aren't\", 'couldn', \"couldn't\", 'didn', \"didn't\", 'doesn', \"doesn't\", 'hadn', \"hadn't\", 'hasn', \"hasn't\", 'haven', \"haven't\", 'isn', \"isn't\", 'ma', 'mightn', \"mightn't\", 'mustn', \"mustn't\", 'needn', \"needn't\", 'shan', \"shan't\", 'shouldn', \"shouldn't\", 'wasn', \"wasn't\", 'weren', \"weren't\", 'won', \"won't\", 'wouldn', \"wouldn't\"]\n",
            "['This', 'is', 'a', 'really', 'nice', 'plan', '.']\n",
            "['This', 'really', 'nice', 'plan', '.']\n"
          ],
          "name": "stdout"
        }
      ]
    },
    {
      "cell_type": "code",
      "metadata": {
        "id": "oA_oxoyrWtsD",
        "colab_type": "code",
        "colab": {
          "base_uri": "https://localhost:8080/",
          "height": 54
        },
        "outputId": "51bac18d-f3b1-4899-ddb8-1e75368d9237"
      },
      "source": [
        "#stemming\n",
        "from nltk.stem.porter import *\n",
        "\n",
        "porterStemmer = PorterStemmer()\n",
        "\n",
        "sentence=\"Women are hard and successful workers because without them, the family will stop functioning. Out of conditioning since childhood, women have learnt to handle responsibilities, and now they are working their way up the rungs of the corporate ladder as well.\"\n",
        "wordList = nltk.word_tokenize(sentence)\n",
        "\n",
        "stemWords = [porterStemmer.stem(word) for word in wordList]\n",
        "\n",
        "print(' '.join(stemWords))"
      ],
      "execution_count": 7,
      "outputs": [
        {
          "output_type": "stream",
          "text": [
            "women are hard and success worker becaus without them , the famili will stop function . out of condit sinc childhood , women have learnt to handl respons , and now they are work their way up the rung of the corpor ladder as well .\n"
          ],
          "name": "stdout"
        }
      ]
    },
    {
      "cell_type": "code",
      "metadata": {
        "id": "JF_v77l_XY9_",
        "colab_type": "code",
        "colab": {
          "base_uri": "https://localhost:8080/",
          "height": 1000
        },
        "outputId": "55c132d3-c3cc-452b-b13f-29df49d9df96"
      },
      "source": [
        "#word lemma\n",
        "from nltk.stem import WordNetLemmatizer\n",
        "wordnet_lemmatizer = WordNetLemmatizer()\n",
        "\n",
        "sentence = \"The Indian economy is diverse and embraces a huge area including agriculture, mining, textile industry, manufacturer and a vast area of other services. There is an enormous shift from what the economy used to be in the distant past. Indian economy is the third largest in the world, as measured by ‘Purchasing Power Parity’ (PPP).\"\n",
        "punctuations=\"?:!.,;\"\n",
        "sentence_words = nltk.word_tokenize(sentence)\n",
        "for word in sentence_words:\n",
        "    if word in punctuations:\n",
        "        sentence_words.remove(word)\n",
        "\n",
        "sentence_words\n",
        "print(\"{0:20}{1:20}\".format(\"Word\",\"Lemma\"))\n",
        "for word in sentence_words:\n",
        "    print (\"{0:20}{1:20}\".format(word,wordnet_lemmatizer.lemmatize(word)))"
      ],
      "execution_count": 8,
      "outputs": [
        {
          "output_type": "stream",
          "text": [
            "Word                Lemma               \n",
            "The                 The                 \n",
            "Indian              Indian              \n",
            "economy             economy             \n",
            "is                  is                  \n",
            "diverse             diverse             \n",
            "and                 and                 \n",
            "embraces            embrace             \n",
            "a                   a                   \n",
            "huge                huge                \n",
            "area                area                \n",
            "including           including           \n",
            "agriculture         agriculture         \n",
            "mining              mining              \n",
            "textile             textile             \n",
            "industry            industry            \n",
            "manufacturer        manufacturer        \n",
            "and                 and                 \n",
            "a                   a                   \n",
            "vast                vast                \n",
            "area                area                \n",
            "of                  of                  \n",
            "other               other               \n",
            "services            service             \n",
            "There               There               \n",
            "is                  is                  \n",
            "an                  an                  \n",
            "enormous            enormous            \n",
            "shift               shift               \n",
            "from                from                \n",
            "what                what                \n",
            "the                 the                 \n",
            "economy             economy             \n",
            "used                used                \n",
            "to                  to                  \n",
            "be                  be                  \n",
            "in                  in                  \n",
            "the                 the                 \n",
            "distant             distant             \n",
            "past                past                \n",
            "Indian              Indian              \n",
            "economy             economy             \n",
            "is                  is                  \n",
            "the                 the                 \n",
            "third               third               \n",
            "largest             largest             \n",
            "in                  in                  \n",
            "the                 the                 \n",
            "world               world               \n",
            "as                  a                   \n",
            "measured            measured            \n",
            "by                  by                  \n",
            "‘                   ‘                   \n",
            "Purchasing          Purchasing          \n",
            "Power               Power               \n",
            "Parity              Parity              \n",
            "’                   ’                   \n",
            "(                   (                   \n",
            "PPP                 PPP                 \n",
            ")                   )                   \n"
          ],
          "name": "stdout"
        }
      ]
    },
    {
      "cell_type": "code",
      "metadata": {
        "id": "HhIk-a_cY0tp",
        "colab_type": "code",
        "colab": {
          "base_uri": "https://localhost:8080/",
          "height": 884
        },
        "outputId": "640894f7-e8b5-4140-e0bf-713479113acd"
      },
      "source": [
        "from nltk import word_tokenize, pos_tag\n",
        "from nltk.stem import WordNetLemmatizer\n",
        "wnl = WordNetLemmatizer()\n",
        "txt = \"\"\"India is mainly an agricultural economy. Agricultural activities contribute about 50% of the economy. Agriculture involves growing and selling of crops, poultry, fishing, cattle rearing, and animal husbandry. People in India earn their livelihood by involving themselves in many of these activities.\"\"\"\n",
        "[wnl.lemmatize(i,j[0].lower()) if j[0].lower() in ['a','n','v'] else wnl.lemmatize(i) for i,j in pos_tag(word_tokenize(txt))]"
      ],
      "execution_count": 9,
      "outputs": [
        {
          "output_type": "execute_result",
          "data": {
            "text/plain": [
              "['India',\n",
              " 'be',\n",
              " 'mainly',\n",
              " 'an',\n",
              " 'agricultural',\n",
              " 'economy',\n",
              " '.',\n",
              " 'Agricultural',\n",
              " 'activity',\n",
              " 'contribute',\n",
              " 'about',\n",
              " '50',\n",
              " '%',\n",
              " 'of',\n",
              " 'the',\n",
              " 'economy',\n",
              " '.',\n",
              " 'Agriculture',\n",
              " 'involve',\n",
              " 'grow',\n",
              " 'and',\n",
              " 'selling',\n",
              " 'of',\n",
              " 'crop',\n",
              " ',',\n",
              " 'poultry',\n",
              " ',',\n",
              " 'fishing',\n",
              " ',',\n",
              " 'cattle',\n",
              " 'rearing',\n",
              " ',',\n",
              " 'and',\n",
              " 'animal',\n",
              " 'husbandry',\n",
              " '.',\n",
              " 'People',\n",
              " 'in',\n",
              " 'India',\n",
              " 'earn',\n",
              " 'their',\n",
              " 'livelihood',\n",
              " 'by',\n",
              " 'involve',\n",
              " 'themselves',\n",
              " 'in',\n",
              " 'many',\n",
              " 'of',\n",
              " 'these',\n",
              " 'activity',\n",
              " '.']"
            ]
          },
          "metadata": {
            "tags": []
          },
          "execution_count": 9
        }
      ]
    },
    {
      "cell_type": "code",
      "metadata": {
        "id": "LScloQtUZRNc",
        "colab_type": "code",
        "colab": {}
      },
      "source": [
        ""
      ],
      "execution_count": null,
      "outputs": []
    }
  ]
}