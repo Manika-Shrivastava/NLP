{
  "nbformat": 4,
  "nbformat_minor": 0,
  "metadata": {
    "colab": {
      "name": "Untitled0.ipynb",
      "provenance": [],
      "authorship_tag": "ABX9TyNEaGsuSbdAZwFvLZIenErD",
      "include_colab_link": true
    },
    "kernelspec": {
      "name": "python3",
      "display_name": "Python 3"
    }
  },
  "cells": [
    {
      "cell_type": "markdown",
      "metadata": {
        "id": "view-in-github",
        "colab_type": "text"
      },
      "source": [
        "<a href=\"https://colab.research.google.com/github/Manika-Shrivastava/NLP/blob/master/Assign%202.ipynb\" target=\"_parent\"><img src=\"https://colab.research.google.com/assets/colab-badge.svg\" alt=\"Open In Colab\"/></a>"
      ]
    },
    {
      "cell_type": "code",
      "metadata": {
        "id": "H2RJQjRt2cIJ",
        "colab_type": "code",
        "colab": {
          "base_uri": "https://localhost:8080/",
          "height": 201
        },
        "outputId": "03b26cdd-3494-4352-e6af-0de26de49900"
      },
      "source": [
        "#Sentimental Analysis for Coronavirus tweets\n",
        "!pip install GetOldTweets3"
      ],
      "execution_count": 4,
      "outputs": [
        {
          "output_type": "stream",
          "text": [
            "Collecting GetOldTweets3\n",
            "  Downloading https://files.pythonhosted.org/packages/ed/f4/a00c2a7c90801abc875325bb5416ce9090ac86d06a00cc887131bd73ba45/GetOldTweets3-0.0.11-py3-none-any.whl\n",
            "Requirement already satisfied: lxml>=3.5.0 in /usr/local/lib/python3.6/dist-packages (from GetOldTweets3) (4.2.6)\n",
            "Collecting pyquery>=1.2.10\n",
            "  Downloading https://files.pythonhosted.org/packages/78/43/95d42e386c61cb639d1a0b94f0c0b9f0b7d6b981ad3c043a836c8b5bc68b/pyquery-1.4.1-py2.py3-none-any.whl\n",
            "Collecting cssselect>0.7.9\n",
            "  Downloading https://files.pythonhosted.org/packages/3b/d4/3b5c17f00cce85b9a1e6f91096e1cc8e8ede2e1be8e96b87ce1ed09e92c5/cssselect-1.1.0-py2.py3-none-any.whl\n",
            "Installing collected packages: cssselect, pyquery, GetOldTweets3\n",
            "Successfully installed GetOldTweets3-0.0.11 cssselect-1.1.0 pyquery-1.4.1\n"
          ],
          "name": "stdout"
        }
      ]
    },
    {
      "cell_type": "code",
      "metadata": {
        "id": "LDopy3mR24Qb",
        "colab_type": "code",
        "colab": {}
      },
      "source": [
        "import re \n",
        "from textblob import TextBlob \n",
        "import GetOldTweets3 as got\n",
        "from matplotlib import pyplot as plt"
      ],
      "execution_count": 5,
      "outputs": []
    },
    {
      "cell_type": "code",
      "metadata": {
        "id": "-ci7UwfO3RlU",
        "colab_type": "code",
        "colab": {}
      },
      "source": [
        "def clean_tweet(tweet): \n",
        "        return ' '.join(re.sub(\"(@[A-Za-z0-9]+)|([^0-9A-Za-z \\t]) |(\\w+:\\/\\/\\S+)\", \" \", tweet).split())"
      ],
      "execution_count": 7,
      "outputs": []
    },
    {
      "cell_type": "code",
      "metadata": {
        "id": "bAgD_2Ly3X_-",
        "colab_type": "code",
        "colab": {}
      },
      "source": [
        "#Tweets from 2019-12-01 to 2020-03-30\n",
        "tweetCriteria = got.manager.TweetCriteria().setQuerySearch('Corona')\\\n",
        "                                           .setSince(\"2019-12-01\")\\\n",
        "                                           .setUntil(\"2020-03-30\")\\\n",
        "                                           .setMaxTweets(100)\n",
        "tweet = got.manager.TweetManager.getTweets(tweetCriteria)"
      ],
      "execution_count": 9,
      "outputs": []
    },
    {
      "cell_type": "code",
      "metadata": {
        "id": "bjbeqEni35bP",
        "colab_type": "code",
        "colab": {}
      },
      "source": [
        "def get_tweet_sentiment(tweet): \n",
        "        \n",
        "        analysis = TextBlob(clean_tweet(tweet)) \n",
        "\n",
        "        if analysis.sentiment.polarity > 0: \n",
        "            return 'positive'\n",
        "        elif analysis.sentiment.polarity == 0: \n",
        "            return 'neutral'\n",
        "        else: \n",
        "            return 'negative'"
      ],
      "execution_count": 10,
      "outputs": []
    },
    {
      "cell_type": "code",
      "metadata": {
        "id": "yNTDrHcm4N__",
        "colab_type": "code",
        "colab": {}
      },
      "source": [
        "tweets=[]\n",
        "for tw in tweet: \n",
        "\n",
        "  parsed_tweet = {}\n",
        "  parsed_tweet['text'] = tw.text \n",
        "  parsed_tweet['sentiment'] =get_tweet_sentiment(tw.text) \n",
        "  if tw.retweets > 0: \n",
        "    if parsed_tweet not in tweets: \n",
        "      tweets.append(parsed_tweet) \n",
        "    else:\n",
        "      tweets.append(parsed_tweet)"
      ],
      "execution_count": 11,
      "outputs": []
    },
    {
      "cell_type": "code",
      "metadata": {
        "id": "Bsxe6yQy4Q_c",
        "colab_type": "code",
        "colab": {}
      },
      "source": [
        "pive_tweets = [tweet for tweet in tweets if tweet['sentiment'] == 'positive']\n",
        "nive_tweets = [tweet for tweet in tweets if tweet['sentiment'] == 'negative']\n",
        "neutral_tweets=[tweet for tweet in tweets if tweet['sentiment']=='neutral']\n",
        "per_ptweets=len(pive_tweets)/len(tweets)*100\n",
        "per_ntweets=len(nive_tweets)/len(tweets)*100\n",
        "per_neutral=len(neutral_tweets)/len(tweets)*100\n",
        "lab=['Positive','Negative','Neutral']\n",
        "data=[per_ptweets,per_ntweets,per_neutral]"
      ],
      "execution_count": 12,
      "outputs": []
    },
    {
      "cell_type": "code",
      "metadata": {
        "id": "zl1mL-H14T4B",
        "colab_type": "code",
        "colab": {
          "base_uri": "https://localhost:8080/",
          "height": 411
        },
        "outputId": "9be1f56b-290c-4f8c-ae34-c17dcd31e3a0"
      },
      "source": [
        "fig = plt.figure(figsize =(10, 7)) \n",
        "plt.pie(data, labels = lab) \n",
        "plt.show()"
      ],
      "execution_count": 13,
      "outputs": [
        {
          "output_type": "display_data",
          "data": {
            "image/png": "[encoded data removed]",
            "text/plain": [
              "<Figure size 720x504 with 1 Axes>"
            ]
          },
          "metadata": {
            "tags": []
          }
        }
      ]
    },
    {
      "cell_type": "code",
      "metadata": {
        "id": "tT4YWipD4XL0",
        "colab_type": "code",
        "colab": {}
      },
      "source": [
        "tweetCriteria = got.manager.TweetCriteria().setQuerySearch('Corona')\\\n",
        "                                           .setSince(\"2020-03-30\")\\\n",
        "                                           .setUntil(\"2020-05-30\")\\\n",
        "                                           .setMaxTweets(100)\n",
        "tweet = got.manager.TweetManager.getTweets(tweetCriteria)"
      ],
      "execution_count": 14,
      "outputs": []
    },
    {
      "cell_type": "code",
      "metadata": {
        "id": "Kbcm00s34a7r",
        "colab_type": "code",
        "colab": {}
      },
      "source": [
        "tweets=[]\n",
        "for tw in tweet: \n",
        "\n",
        "  parsed_tweet = {}\n",
        "  parsed_tweet['text'] = tw.text \n",
        "  parsed_tweet['sentiment'] =get_tweet_sentiment(tw.text) \n",
        "  if tw.retweets > 0: \n",
        "    if parsed_tweet not in tweets: \n",
        "      tweets.append(parsed_tweet) \n",
        "    else:\n",
        "      tweets.append(parsed_tweet)"
      ],
      "execution_count": 15,
      "outputs": []
    },
    {
      "cell_type": "code",
      "metadata": {
        "id": "mTefdc944hfC",
        "colab_type": "code",
        "colab": {}
      },
      "source": [
        "pive_tweets = [tweet for tweet in tweets if tweet['sentiment'] == 'positive']\n",
        "nive_tweets = [tweet for tweet in tweets if tweet['sentiment'] == 'negative']\n",
        "neutral_tweets=[tweet for tweet in tweets if tweet['sentiment']=='neutral']\n",
        "per_ptweets=len(pive_tweets)/len(tweets)*100\n",
        "per_ntweets=len(nive_tweets)/len(tweets)*100\n",
        "per_neutral=len(neutral_tweets)/len(tweets)*100\n",
        "lab=['Positive','Negative','Neutral']\n",
        "data=[per_ptweets,per_ntweets,per_neutral]"
      ],
      "execution_count": 16,
      "outputs": []
    },
    {
      "cell_type": "code",
      "metadata": {
        "id": "viC1aM_Y4rOV",
        "colab_type": "code",
        "colab": {
          "base_uri": "https://localhost:8080/",
          "height": 411
        },
        "outputId": "a88584c5-ae7a-49a0-f214-86bfe7cd8bd7"
      },
      "source": [
        "fig = plt.figure(figsize =(10, 7)) \n",
        "plt.pie(data, labels = lab) \n",
        "plt.show()"
      ],
      "execution_count": 17,
      "outputs": [
        {
          "output_type": "display_data",
          "data": {
            "image/png": "[encoded data removed]",
            "text/plain": [
              "<Figure size 720x504 with 1 Axes>"
            ]
          },
          "metadata": {
            "tags": []
          }
        }
      ]
    },
    {
      "cell_type": "code",
      "metadata": {
        "id": "4MYIJQ9C4us8",
        "colab_type": "code",
        "colab": {}
      },
      "source": [
        "#Sentimental Analysis on tweets Regarding Mahesh Bhatt\n",
        "tweetCriteria = got.manager.TweetCriteria().setQuerySearch('Mahesh Bhatt')\\\n",
        "                                           .setSince(\"2020-01-01\")\\\n",
        "                                           .setUntil(\"2020-06-13\")\\\n",
        "                                           .setMaxTweets(100)\n",
        "tweet = got.manager.TweetManager.getTweets(tweetCriteria)"
      ],
      "execution_count": 18,
      "outputs": []
    },
    {
      "cell_type": "code",
      "metadata": {
        "id": "qbUI57Xd4-22",
        "colab_type": "code",
        "colab": {}
      },
      "source": [
        "tweets=[]\n",
        "for tw in tweet: \n",
        "\n",
        "  parsed_tweet = {}\n",
        "  parsed_tweet['text'] = tw.text \n",
        "  parsed_tweet['sentiment'] =get_tweet_sentiment(tw.text) \n",
        "  if tw.retweets > 0: \n",
        "    if parsed_tweet not in tweets: \n",
        "      tweets.append(parsed_tweet) \n",
        "    else:\n",
        "      tweets.append(parsed_tweet)"
      ],
      "execution_count": 19,
      "outputs": []
    },
    {
      "cell_type": "code",
      "metadata": {
        "id": "INJqqM9e5Dxc",
        "colab_type": "code",
        "colab": {}
      },
      "source": [
        "pive_tweets = [tweet for tweet in tweets if tweet['sentiment'] == 'positive']\n",
        "nive_tweets = [tweet for tweet in tweets if tweet['sentiment'] == 'negative']\n",
        "neutral_tweets=[tweet for tweet in tweets if tweet['sentiment']=='neutral']\n",
        "per_ptweets=len(pive_tweets)/len(tweets)*100\n",
        "per_ntweets=len(nive_tweets)/len(tweets)*100\n",
        "per_neutral=len(neutral_tweets)/len(tweets)*100\n",
        "lab=['Positive','Negative','Neutral']\n",
        "data=[per_ptweets,per_ntweets,per_neutral]"
      ],
      "execution_count": 20,
      "outputs": []
    },
    {
      "cell_type": "code",
      "metadata": {
        "id": "srl1yXqi5GXS",
        "colab_type": "code",
        "colab": {
          "base_uri": "https://localhost:8080/",
          "height": 411
        },
        "outputId": "75306459-8b36-4040-a167-d46029517d2d"
      },
      "source": [
        "fig = plt.figure(figsize =(10, 7)) \n",
        "plt.pie(data, labels = lab) \n",
        "plt.show()"
      ],
      "execution_count": 21,
      "outputs": [
        {
          "output_type": "display_data",
          "data": {
            "image/png": "[encoded data removed]",
            "text/plain": [
              "<Figure size 720x504 with 1 Axes>"
            ]
          },
          "metadata": {
            "tags": []
          }
        }
      ]
    },
    {
      "cell_type": "code",
      "metadata": {
        "id": "u7uBHlUj5I_N",
        "colab_type": "code",
        "colab": {}
      },
      "source": [
        "#After SSR's Death\n",
        "tweetCriteria = got.manager.TweetCriteria().setQuerySearch('Mahesh Bhatt')\\\n",
        "                                           .setSince(\"2020-06-14\")\\\n",
        "                                           .setUntil(\"2020-08-31\")\\\n",
        "                                           .setMaxTweets(100)\n",
        "tweet = got.manager.TweetManager.getTweets(tweetCriteria)"
      ],
      "execution_count": 22,
      "outputs": []
    },
    {
      "cell_type": "code",
      "metadata": {
        "id": "o-lIC3oc5PaU",
        "colab_type": "code",
        "colab": {}
      },
      "source": [
        "tweets=[]\n",
        "for tw in tweet: \n",
        "\n",
        "  parsed_tweet = {}\n",
        "  parsed_tweet['text'] = tw.text \n",
        "  parsed_tweet['sentiment'] =get_tweet_sentiment(tw.text) \n",
        "  if tw.retweets > 0: \n",
        "    if parsed_tweet not in tweets: \n",
        "      tweets.append(parsed_tweet) \n",
        "    else:\n",
        "      tweets.append(parsed_tweet)"
      ],
      "execution_count": 23,
      "outputs": []
    },
    {
      "cell_type": "code",
      "metadata": {
        "id": "gmdXMIsG5SK9",
        "colab_type": "code",
        "colab": {
          "base_uri": "https://localhost:8080/",
          "height": 411
        },
        "outputId": "7e7cc640-de7c-462a-dc3f-ce609407cae9"
      },
      "source": [
        "fig = plt.figure(figsize =(10, 7)) \n",
        "plt.pie(data, labels = lab) \n",
        "plt.show()\n"
      ],
      "execution_count": 24,
      "outputs": [
        {
          "output_type": "display_data",
          "data": {
            "image/png": "[encoded data removed]",
            "text/plain": [
              "<Figure size 720x504 with 1 Axes>"
            ]
          },
          "metadata": {
            "tags": []
          }
        }
      ]
    },
    {
      "cell_type": "code",
      "metadata": {
        "id": "5XrCOQ-I5UAQ",
        "colab_type": "code",
        "colab": {}
      },
      "source": [
        ""
      ],
      "execution_count": null,
      "outputs": []
    }
  ]
}